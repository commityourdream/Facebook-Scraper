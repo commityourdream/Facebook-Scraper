{
 "cells": [
  {
   "cell_type": "code",
   "execution_count": 1,
   "metadata": {},
   "outputs": [],
   "source": [
    "import requests           # To request URLs\n",
    "from time import sleep\t  # To delay requesting process (avoid spam)\n",
    "import datetime           # Deal with tricky dates formats\n",
    "import json               # Because the API returns json data\n",
    "import csv  "
   ]
  },
  {
   "cell_type": "code",
   "execution_count": 2,
   "metadata": {},
   "outputs": [],
   "source": [
    "def request_properly(url):\n",
    "\t# Binary variable\n",
    "\tSuccess = False \n",
    "\t# Systematic query\n",
    "\twhile Success is False : \n",
    "\t\ttry :\n",
    "    # Create an object containing our data\n",
    "\t\t\trequest = requests.get(url)\n",
    "    # Standard response codes given by web site servers on the \n",
    "    # internet. The codes help identify the cause of the problem when     \n",
    "    # a web page or other resource does not load properly. \n",
    "\t\t\tstatus_code = request.status_code\n",
    "    # 200: successful query\n",
    "\t\t\tif status_code == 200:\n",
    "\t\t\t\traw_data = request.text\n",
    "\t\t\t\tSuccess = True\n",
    "    # 4XX: Client error\n",
    "\t\t\telif status_code == 400:\n",
    "\t\t\t\tprint(status_code, '\\nRefresh your access TOKEN\\n')\n",
    "\t\t\t\tSuccess = True\n",
    "    # Wait 5secs and retry\n",
    "\t\texcept Exception as e:\n",
    "\t\t\tprint (e, '\\n\\t Please wait, Retrying...', datetime.datetime.now())\n",
    "\t\t\tsleep(5)\n",
    "\t# Return data, we clean later\t\t\n",
    "\treturn raw_data"
   ]
  },
  {
   "cell_type": "code",
   "execution_count": 3,
   "metadata": {},
   "outputs": [],
   "source": [
    "def unicode_decode(text):\n",
    "    try:\n",
    "        return text.encode('utf-8').decode()\n",
    "    except UnicodeDecodeError:\n",
    "        return text.encode('utf-8')"
   ]
  },
  {
   "cell_type": "code",
   "execution_count": 4,
   "metadata": {},
   "outputs": [],
   "source": [
    "# Parameters: check documentation\n",
    "page = 'nytimes'\n",
    "base_url = 'https://graph.facebook.com/v3.0/'\n",
    "parameters = 'me?fields=id,name,conversations{messages.limit(10){created_time,message,from,id},id,link}'\n",
    "access_token = 'EAAKHIpZBSTYwBABsoF3uzBSHOW4LKSJnj5eIr6p36smKVnB57wRNPCR2XseDTIW8U5PEnchJ0tyFXYMEZCU4iH3f9nZCiLu5EMi6xHZCzJG6gpt0qljWnOV924LmLXjtfr2euyB42BdWeZCYEh7pTN7Cbn45oJSm8dtZACI6ODyZAgZCokHdf5vJw2pg5GVaJeT1vVuNMZAtHHwZDZD'\n",
    "# Concatenate parameters to build first URL\n",
    "first_url = base_url + page + parameters + '&access_token=' + access_token"
   ]
  },
  {
   "cell_type": "code",
   "execution_count": 5,
   "metadata": {},
   "outputs": [
    {
     "name": "stdout",
     "output_type": "stream",
     "text": [
      "https://graph.facebook.com/v3.0/nytimesme?fields=id,name,conversations{messages.limit(10){created_time,message,from,id},id,link}&access_token=EAAKHIpZBSTYwBABsoF3uzBSHOW4LKSJnj5eIr6p36smKVnB57wRNPCR2XseDTIW8U5PEnchJ0tyFXYMEZCU4iH3f9nZCiLu5EMi6xHZCzJG6gpt0qljWnOV924LmLXjtfr2euyB42BdWeZCYEh7pTN7Cbn45oJSm8dtZACI6ODyZAgZCokHdf5vJw2pg5GVaJeT1vVuNMZAtHHwZDZD\n"
     ]
    }
   ],
   "source": [
    "print first_url"
   ]
  },
  {
   "cell_type": "code",
   "execution_count": 6,
   "metadata": {},
   "outputs": [
    {
     "name": "stdout",
     "output_type": "stream",
     "text": [
      "(ConnectionError(MaxRetryError(\"HTTPSConnectionPool(host='graph.facebook.com', port=443): Max retries exceeded with url: /v3.0/nytimesme?fields=id,name,conversations%7Bmessages.limit(10)%7Bcreated_time,message,from,id%7D,id,link%7D&access_token=EAAKHIpZBSTYwBABsoF3uzBSHOW4LKSJnj5eIr6p36smKVnB57wRNPCR2XseDTIW8U5PEnchJ0tyFXYMEZCU4iH3f9nZCiLu5EMi6xHZCzJG6gpt0qljWnOV924LmLXjtfr2euyB42BdWeZCYEh7pTN7Cbn45oJSm8dtZACI6ODyZAgZCokHdf5vJw2pg5GVaJeT1vVuNMZAtHHwZDZD (Caused by NewConnectionError('<urllib3.connection.VerifiedHTTPSConnection object at 0x10a2326d0>: Failed to establish a new connection: [Errno 8] nodename nor servname provided, or not known',))\",),), '\\n\\t Please wait, Retrying...', datetime.datetime(2018, 12, 6, 19, 16, 10, 978249))\n",
      "(400, '\\nRefresh your access TOKEN\\n')\n"
     ]
    },
    {
     "ename": "UnboundLocalError",
     "evalue": "local variable 'raw_data' referenced before assignment",
     "output_type": "error",
     "traceback": [
      "\u001b[0;31m---------------------------------------------------------------------------\u001b[0m",
      "\u001b[0;31mUnboundLocalError\u001b[0m                         Traceback (most recent call last)",
      "\u001b[0;32m<ipython-input-6-64b1c2755dc1>\u001b[0m in \u001b[0;36m<module>\u001b[0;34m()\u001b[0m\n\u001b[1;32m      5\u001b[0m     \u001b[0mcsv_writer\u001b[0m\u001b[0;34m.\u001b[0m\u001b[0mwriterow\u001b[0m\u001b[0;34m(\u001b[0m\u001b[0;34m[\u001b[0m\u001b[0;34m'id'\u001b[0m\u001b[0;34m,\u001b[0m\u001b[0;34m'name'\u001b[0m\u001b[0;34m,\u001b[0m \u001b[0;34m'conversation'\u001b[0m\u001b[0;34m,\u001b[0m \u001b[0;34m'message'\u001b[0m\u001b[0;34m]\u001b[0m\u001b[0;34m)\u001b[0m\u001b[0;34m\u001b[0m\u001b[0m\n\u001b[1;32m      6\u001b[0m     \u001b[0;32mwhile\u001b[0m \u001b[0mpagination\u001b[0m \u001b[0;32mis\u001b[0m \u001b[0mTrue\u001b[0m \u001b[0;34m:\u001b[0m\u001b[0;34m\u001b[0m\u001b[0m\n\u001b[0;32m----> 7\u001b[0;31m         \u001b[0mdatas\u001b[0m \u001b[0;34m=\u001b[0m \u001b[0mjson\u001b[0m\u001b[0;34m.\u001b[0m\u001b[0mloads\u001b[0m\u001b[0;34m(\u001b[0m\u001b[0mrequest_properly\u001b[0m\u001b[0;34m(\u001b[0m\u001b[0mfirst_url\u001b[0m\u001b[0;34m)\u001b[0m\u001b[0;34m)\u001b[0m\u001b[0;34m\u001b[0m\u001b[0m\n\u001b[0m\u001b[1;32m      8\u001b[0m         \u001b[0;32mfor\u001b[0m \u001b[0mdata\u001b[0m \u001b[0;32min\u001b[0m \u001b[0mdatas\u001b[0m\u001b[0;34m[\u001b[0m\u001b[0;34m'data'\u001b[0m\u001b[0;34m]\u001b[0m\u001b[0;34m:\u001b[0m\u001b[0;34m\u001b[0m\u001b[0m\n\u001b[1;32m      9\u001b[0m             \u001b[0;32mtry\u001b[0m \u001b[0;34m:\u001b[0m\u001b[0;34m\u001b[0m\u001b[0m\n",
      "\u001b[0;32m<ipython-input-2-b6b59a40d367>\u001b[0m in \u001b[0;36mrequest_properly\u001b[0;34m(url)\u001b[0m\n\u001b[1;32m     24\u001b[0m                         \u001b[0msleep\u001b[0m\u001b[0;34m(\u001b[0m\u001b[0;36m5\u001b[0m\u001b[0;34m)\u001b[0m\u001b[0;34m\u001b[0m\u001b[0m\n\u001b[1;32m     25\u001b[0m         \u001b[0;31m# Return data, we clean later\u001b[0m\u001b[0;34m\u001b[0m\u001b[0;34m\u001b[0m\u001b[0m\n\u001b[0;32m---> 26\u001b[0;31m         \u001b[0;32mreturn\u001b[0m \u001b[0mraw_data\u001b[0m\u001b[0;34m\u001b[0m\u001b[0m\n\u001b[0m",
      "\u001b[0;31mUnboundLocalError\u001b[0m: local variable 'raw_data' referenced before assignment"
     ]
    }
   ],
   "source": [
    "pagination = True\n",
    "iter_num = 0\n",
    "with open('facebook_posts_scraper.csv', 'w') as f:\n",
    "    csv_writer = csv.writer(f)\n",
    "    csv_writer.writerow(['id','name', 'conversation', 'message'])\n",
    "    while pagination is True : \n",
    "        datas = json.loads(request_properly(first_url))\n",
    "        for data in datas['data']:\n",
    "            try :\n",
    "                id_ = data['id']\n",
    "                created_time = datetime.datetime.strptime(data['created_time'], '%Y-%m-%dT%H:%M:%S+0000')\n",
    "                conversation = data['conversation']\n",
    "                message = unicode_decode(data['message'])\n",
    "            except KeyError:\n",
    "                id, name, conversation, message = '','','',''\n"
   ]
  },
  {
   "cell_type": "code",
   "execution_count": null,
   "metadata": {},
   "outputs": [],
   "source": [
    "Store data into csv: 4 cols\n",
    "            csv_writer.writerow([id_, created_time, conversation, message])\n",
    "            iter_num+=1\n",
    "            first_url = datas['paging']['next']"
   ]
  },
  {
   "cell_type": "code",
   "execution_count": 5,
   "metadata": {},
   "outputs": [
    {
     "name": "stdout",
     "output_type": "stream",
     "text": [
      "(400, '\\nRefresh your access TOKEN\\n')\n"
     ]
    },
    {
     "ename": "UnboundLocalError",
     "evalue": "local variable 'raw_data' referenced before assignment",
     "output_type": "error",
     "traceback": [
      "\u001b[0;31m---------------------------------------------------------------------------\u001b[0m",
      "\u001b[0;31mUnboundLocalError\u001b[0m                         Traceback (most recent call last)",
      "\u001b[0;32m<ipython-input-5-4d83b70f432f>\u001b[0m in \u001b[0;36m<module>\u001b[0;34m()\u001b[0m\n\u001b[1;32m     10\u001b[0m     \u001b[0;31m# 2. Loop over pages\u001b[0m\u001b[0;34m\u001b[0m\u001b[0;34m\u001b[0m\u001b[0m\n\u001b[1;32m     11\u001b[0m     \u001b[0;32mwhile\u001b[0m \u001b[0mpagination\u001b[0m \u001b[0;32mis\u001b[0m \u001b[0mTrue\u001b[0m \u001b[0;34m:\u001b[0m\u001b[0;34m\u001b[0m\u001b[0m\n\u001b[0;32m---> 12\u001b[0;31m         \u001b[0mdatas\u001b[0m \u001b[0;34m=\u001b[0m \u001b[0mjson\u001b[0m\u001b[0;34m.\u001b[0m\u001b[0mloads\u001b[0m\u001b[0;34m(\u001b[0m\u001b[0mrequest_properly\u001b[0m\u001b[0;34m(\u001b[0m\u001b[0mfirst_url\u001b[0m\u001b[0;34m)\u001b[0m\u001b[0;34m)\u001b[0m\u001b[0;34m\u001b[0m\u001b[0m\n\u001b[0m\u001b[1;32m     13\u001b[0m         \u001b[0;32mfor\u001b[0m \u001b[0mdata\u001b[0m \u001b[0;32min\u001b[0m \u001b[0mdatas\u001b[0m\u001b[0;34m[\u001b[0m\u001b[0;34m'data'\u001b[0m\u001b[0;34m]\u001b[0m\u001b[0;34m:\u001b[0m\u001b[0;34m\u001b[0m\u001b[0m\n\u001b[1;32m     14\u001b[0m             \u001b[0;32mtry\u001b[0m \u001b[0;34m:\u001b[0m\u001b[0;34m\u001b[0m\u001b[0m\n",
      "\u001b[0;32m<ipython-input-2-b6b59a40d367>\u001b[0m in \u001b[0;36mrequest_properly\u001b[0;34m(url)\u001b[0m\n\u001b[1;32m     24\u001b[0m                         \u001b[0msleep\u001b[0m\u001b[0;34m(\u001b[0m\u001b[0;36m5\u001b[0m\u001b[0;34m)\u001b[0m\u001b[0;34m\u001b[0m\u001b[0m\n\u001b[1;32m     25\u001b[0m         \u001b[0;31m# Return data, we clean later\u001b[0m\u001b[0;34m\u001b[0m\u001b[0;34m\u001b[0m\u001b[0m\n\u001b[0;32m---> 26\u001b[0;31m         \u001b[0;32mreturn\u001b[0m \u001b[0mraw_data\u001b[0m\u001b[0;34m\u001b[0m\u001b[0m\n\u001b[0m",
      "\u001b[0;31mUnboundLocalError\u001b[0m: local variable 'raw_data' referenced before assignment"
     ]
    }
   ],
   "source": [
    "# Request data, paginate and write into csv file\n",
    "\n",
    "pagination = True\n",
    "iter_num = 0\n",
    "with open('facebook_posts_scraper.csv', 'w') as f:\n",
    "\n",
    "    # 1. Create an object for writing data into csv \n",
    "    csv_writer = csv.writer(f)\n",
    "    csv_writer.writerow(['id','created_time', 'shares', 'description'])\n",
    "    # 2. Loop over pages\n",
    "    while pagination is True : \n",
    "        datas = json.loads(request_properly(first_url))\n",
    "        for data in datas['data']:\n",
    "            try :\n",
    "                id_ = data['id']\n",
    "                created_time = datetime.datetime.strptime(data['created_time'], '%Y-%m-%dT%H:%M:%S+0000')\n",
    "                shares = data['shares']['count']\n",
    "                description = unicode_decode(data['description'])\n",
    "            except KeyError:\n",
    "                description, id_, created_time, shares = '','','',''\n",
    "\n",
    "    # 3. Store data into csv: 4 cols\n",
    "            csv_writer.writerow([id_, created_time, shares, description])\n",
    "            iter_num+=1\n",
    "            first_url = datas['paging']['next']\n",
    "            # Number of posts scraped Indicator\n",
    "            if (iter_num%100) == 0 :\n",
    "                print('{} Posts scraped... \\t datetime : {}'.format(iter_num, datetime.datetime.now()))\n",
    "            # Finish pagination \n",
    "            if not (datas['paging']['next']) or (iter_num == 500):\n",
    "                pagination = False \n",
    "        \n",
    "    # 4. Stop program when reach number of post we want\n",
    "print '\\n {} Posts scraped SUCCESSFULY ! \\t datetime : {}'.format(iter_num, datetime.datetime.now())       "
   ]
  },
  {
   "cell_type": "code",
   "execution_count": null,
   "metadata": {},
   "outputs": [],
   "source": [
    "\n",
    "import pandas as pd  \n",
    "path = '/Users/../?'\n",
    "df = pd.read_csv(path)\n",
    "print df\n",
    "print df.shape\n",
    "print df.isnull().sum()"
   ]
  },
  {
   "cell_type": "code",
   "execution_count": null,
   "metadata": {},
   "outputs": [],
   "source": [
    "{\n",
    "    \"name\" : \"Admin\",\n",
    "    \"age\" : 36,\n",
    "    \"rights\" : [ \"admin\", \"editor\", \"contributor\" ]\n",
    "}"
   ]
  },
  {
   "cell_type": "code",
   "execution_count": null,
   "metadata": {},
   "outputs": [],
   "source": []
  }
 ],
 "metadata": {
  "kernelspec": {
   "display_name": "Python 2",
   "language": "python",
   "name": "python2"
  },
  "language_info": {
   "codemirror_mode": {
    "name": "ipython",
    "version": 2
   },
   "file_extension": ".py",
   "mimetype": "text/x-python",
   "name": "python",
   "nbconvert_exporter": "python",
   "pygments_lexer": "ipython2",
   "version": "2.7.15"
  }
 },
 "nbformat": 4,
 "nbformat_minor": 2
}
